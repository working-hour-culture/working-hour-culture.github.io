{
 "cells": [
  {
   "cell_type": "code",
   "execution_count": 1,
   "metadata": {},
   "outputs": [],
   "source": [
    "import pandas as pd\n",
    "pd.options.display.max_columns = 999\n",
    "import numpy as np\n",
    "import geopandas as gpd\n",
    "import zipfile \n",
    "import shapely\n",
    "import matplotlib.pyplot as plt\n",
    "%matplotlib inline"
   ]
  },
  {
   "cell_type": "markdown",
   "metadata": {},
   "source": [
    "# TFL Data Preprocessing"
   ]
  },
  {
   "cell_type": "code",
   "execution_count": 586,
   "metadata": {},
   "outputs": [],
   "source": [
    "tube = pd.read_csv('counts-entries-10-weekday-sample.csv')\n",
    "tube.Station = tube.Station.str.rstrip(' ')"
   ]
  },
  {
   "cell_type": "code",
   "execution_count": 587,
   "metadata": {},
   "outputs": [],
   "source": [
    "tube.index = tube['Station']"
   ]
  },
  {
   "cell_type": "code",
   "execution_count": 588,
   "metadata": {},
   "outputs": [],
   "source": [
    "tube = tube.drop(columns=['nlc', 'Date', 'Station', 'Total', 'Early',\n",
    "       'A.M. Peak', 'Inter peak', 'P.M. Peak', 'Evening'], axis=1).T"
   ]
  },
  {
   "cell_type": "code",
   "execution_count": 589,
   "metadata": {},
   "outputs": [],
   "source": [
    "tube.index = pd.TimedeltaIndex([(t[0:2]+\":\"+t[2:4]+\":00\") for t in tube.index])"
   ]
  },
  {
   "cell_type": "code",
   "execution_count": 590,
   "metadata": {},
   "outputs": [
    {
     "name": "stderr",
     "output_type": "stream",
     "text": [
      "/Users/GeorgePyne/anaconda3/envs/spatiotemporal/lib/python3.7/site-packages/ipykernel_launcher.py:4: FutureWarning: pd.TimeGrouper is deprecated and will be removed; Please use pd.Grouper(freq=...)\n",
      "  after removing the cwd from sys.path.\n"
     ]
    }
   ],
   "source": [
    "counts = []\n",
    "\n",
    "for ts in tube.columns:\n",
    "    counts.append(tube.groupby([pd.TimeGrouper('1H')]).agg({ts:sum}))\n",
    "\n",
    "tube = pd.concat(counts, axis=1)"
   ]
  },
  {
   "cell_type": "code",
   "execution_count": 591,
   "metadata": {},
   "outputs": [],
   "source": [
    "tube = tube.T.reset_index().rename(columns={'index':'name'})"
   ]
  },
  {
   "cell_type": "code",
   "execution_count": 596,
   "metadata": {},
   "outputs": [],
   "source": [
    "locations = pd.read_csv('/Users/GeorgePyne/Dropbox/Spatial analysis/7/london-stations.csv',usecols=[1,2,3])"
   ]
  },
  {
   "cell_type": "code",
   "execution_count": 593,
   "metadata": {},
   "outputs": [],
   "source": [
    "tube = tube.append(tube.loc[tube['name']=='Bank & Monument'].replace('Bank & Monument', 'Bank'), ignore_index = True)\n",
    "tube = tube.append(tube.loc[tube['name']=='Bank & Monument'].replace('Bank & Monument', 'Monument'), ignore_index = True) "
   ]
  },
  {
   "cell_type": "code",
   "execution_count": 601,
   "metadata": {},
   "outputs": [],
   "source": [
    "tube = tube.merge(locations, on='name')"
   ]
  },
  {
   "cell_type": "code",
   "execution_count": null,
   "metadata": {},
   "outputs": [],
   "source": [
    "tube = tube.drop(columns='match', axis=1).merge(locations.drop(columns='match',axis=1), on='name').drop(columns='name',axis=1)"
   ]
  },
  {
   "cell_type": "code",
   "execution_count": 202,
   "metadata": {},
   "outputs": [],
   "source": [
    "tube.to_csv('test.csv', header=True, index=False)"
   ]
  },
  {
   "cell_type": "code",
   "execution_count": 619,
   "metadata": {},
   "outputs": [],
   "source": [
    "rows = []\n",
    "for row in tube.iterrows():\n",
    "    index, data = row\n",
    "    rows.append(data.tolist())"
   ]
  },
  {
   "cell_type": "code",
   "execution_count": 620,
   "metadata": {},
   "outputs": [],
   "source": [
    "station_dict = {}\n",
    "for row in rows:\n",
    "    station_dict[str(row[-2])+\", \"+str(row[-1])] = row[0:-2]\n"
   ]
  },
  {
   "cell_type": "code",
   "execution_count": 243,
   "metadata": {},
   "outputs": [],
   "source": [
    "rows = []\n",
    "for row in pc.drop(columns='name', axis=1).iterrows():\n",
    "    index, data = row\n",
    "    rows.append(data.tolist())\n",
    "station_dict = {}\n",
    "for row in rows:\n",
    "    station_dict[str(row[-2])+\", \"+str(row[-1])] = row[0:-2]"
   ]
  }
 ],
 "metadata": {
  "anaconda-cloud": {},
  "kernelspec": {
   "display_name": "Python 3",
   "language": "python",
   "name": "python3"
  },
  "language_info": {
   "codemirror_mode": {
    "name": "ipython",
    "version": 3
   },
   "file_extension": ".py",
   "mimetype": "text/x-python",
   "name": "python",
   "nbconvert_exporter": "python",
   "pygments_lexer": "ipython3",
   "version": "3.7.3"
  }
 },
 "nbformat": 4,
 "nbformat_minor": 2
}
